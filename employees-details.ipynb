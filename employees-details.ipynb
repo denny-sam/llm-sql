{
 "cells": [
  {
   "cell_type": "code",
   "execution_count": 3,
   "metadata": {},
   "outputs": [],
   "source": [
    "from langchain_community.llms import Ollama"
   ]
  },
  {
   "cell_type": "code",
   "execution_count": 5,
   "metadata": {},
   "outputs": [
    {
     "data": {
      "text/plain": [
       "' As of my last update, here is the current weather forecast for New York City (Manhattan) on March 20, 2023:\\n\\n- Temperature: 51°F (10.6°C)\\n- Wind speed: 8 mph (13 km/h)\\n- Humidity: 49%\\n- Precipitation: 0% chance of rain\\n- Sky condition: Partly cloudy\\n\\nPlease check a reliable weather source for the most up-to-date information, as conditions can change.'"
      ]
     },
     "execution_count": 5,
     "metadata": {},
     "output_type": "execute_result"
    }
   ],
   "source": [
    "llm = Ollama(model=\"mistral\",\n",
    "            temperature=0, # Increasing the temperature will make the model answer more creatively. (Default: 0.8),\n",
    "            # num_ctx=4096  # Default is 2048\n",
    "            )\n",
    "\n",
    "llm.invoke(\"Please tell me the current weather in New York city for today\")"
   ]
  },
  {
   "cell_type": "code",
   "execution_count": 7,
   "metadata": {},
   "outputs": [
    {
     "data": {
      "text/plain": [
       "\" I don't have a personal name. I'm a model of the Mistral AI's family, and you can call me Mistral AI Assistant. How can I assist you today?\""
      ]
     },
     "execution_count": 7,
     "metadata": {},
     "output_type": "execute_result"
    }
   ],
   "source": [
    "llm.invoke(\"What's your name\")"
   ]
  },
  {
   "cell_type": "code",
   "execution_count": 8,
   "metadata": {},
   "outputs": [
    {
     "data": {
      "text/plain": [
       "\" Assuming you have a table named `people` with columns `first_name`, `last_name`, and other relevant columns, here are the SQL queries to select all rows where the `first_name` is 'Matt':\\n\\n1. For MySQL:\\n\\n```sql\\nSELECT * FROM people WHERE first_name = 'Matt';\\n```\\n\\n2. For PostgreSQL:\\n\\n```sql\\nSELECT * FROM people WHERE first_name = 'Matt';\\n```\\n\\n3. For SQL Server:\\n\\n```sql\\nSELECT * FROM people WHERE first_name = N'Matt'; -- Use the N prefix for Unicode strings in SQL Server\\n```\\n\\n4. For Oracle:\\n\\n```sql\\nSELECT * FROM people WHERE UPPER(first_name) = 'MATTS'; -- Oracle is case-insensitive by default, so we use uppercase to ensure matching\\n```\""
      ]
     },
     "execution_count": 8,
     "metadata": {},
     "output_type": "execute_result"
    }
   ],
   "source": [
    "llm.invoke(\"generate some sql queries to select all rows in a table having Matt as their first_name\")"
   ]
  },
  {
   "cell_type": "code",
   "execution_count": 23,
   "metadata": {},
   "outputs": [],
   "source": [
    "sql_generator_prompt = \"\"\"\n",
    "You are a SQL generator for Postgres database. \n",
    "Given a schema and a query, return the SQL query that will return the results of the query.\n",
    "Here's the schema:\n",
    "{schema}\n",
    "Here's the query for which you need to generate an SQL query to return its results:\n",
    "{query}\n",
    "\n",
    "You should only return the sql query as response and nothing else. \n",
    "For e.g. if the query says \"What is the total count of employees?\" the response should be  \"SELECT COUNT(*) FROM employee;\" and nothing else\n",
    "There will be limitations in postgres that limit you from writing every kind of query so keeep that in mind while giving the result. For e.g. in postgres aggregate and window functions are not allowed in WHERE clause.\n",
    "\"\"\"\n",
    "\n",
    "\n",
    "sql_schema = \"\"\"\n",
    "-- Create employees table\n",
    "CREATE TABLE employee (\n",
    "    id SERIAL PRIMARY KEY,\n",
    "    first_name VARCHAR(50) NOT NULL,\n",
    "    last_name VARCHAR(50) NOT NULL,\n",
    "    department VARCHAR(100),\n",
    "    hire_date DATE\n",
    ");\n",
    "\n",
    "-- Create salary_details table\n",
    "CREATE TABLE salary_details (\n",
    "    id SERIAL PRIMARY KEY,\n",
    "    employee_id INTEGER REFERENCES employee(id),\n",
    "    salary_period DATE NOT NULL,\n",
    "    gross_salary DECIMAL(10, 2) NOT NULL,\n",
    "    deductions DECIMAL(10, 2) DEFAULT 0,\n",
    "    take_home_pay DECIMAL(10, 2) NOT NULL,\n",
    "    FOREIGN KEY (employee_id) REFERENCES employee(id)\n",
    ");\n",
    "\n",
    "-- Create time_sheet table\n",
    "CREATE TABLE time_sheet (\n",
    "    id SERIAL PRIMARY KEY,\n",
    "    employee_id INTEGER REFERENCES employee(id),\n",
    "    month DATE NOT NULL,\n",
    "    total_hours DECIMAL(5, 2) NOT NULL,\n",
    "    FOREIGN KEY (employee_id) REFERENCES employee(id)\n",
    ");\n",
    "\"\"\"\n"
   ]
  },
  {
   "cell_type": "code",
   "execution_count": 14,
   "metadata": {},
   "outputs": [
    {
     "name": "stdout",
     "output_type": "stream",
     "text": [
      " SELECT COUNT(*) FROM employee;\n"
     ]
    }
   ],
   "source": [
    "query = \"How many employees do we have\"\n",
    "print(llm.invoke(sql_generator_prompt.format(schema=sql_schema, query=query)))"
   ]
  },
  {
   "cell_type": "code",
   "execution_count": 15,
   "metadata": {},
   "outputs": [
    {
     "name": "stdout",
     "output_type": "stream",
     "text": [
      " SELECT COUNT(employee.id) FROM employee\n",
      "JOIN salary_details ON employee.id = salary_details.employee_id\n",
      "WHERE salary_details.take_home_pay > 6000;\n"
     ]
    }
   ],
   "source": [
    "query = \"How many employees are there whose take home pay is more than 6000\"\n",
    "print(llm.invoke(sql_generator_prompt.format(schema=sql_schema, query=query)))"
   ]
  },
  {
   "cell_type": "code",
   "execution_count": 16,
   "metadata": {},
   "outputs": [
    {
     "name": "stdout",
     "output_type": "stream",
     "text": [
      " SELECT first_name, last_name\n",
      "FROM employee\n",
      "JOIN salary_details ON employee.id = salary_details.employee_id\n",
      "WHERE take_home_pay > 6000 AND\n",
      "(\n",
      "    SELECT SUM(total_hours)\n",
      "    FROM time_sheet\n",
      "    WHERE employee_id = employee.id\n",
      "    GROUP BY employee_id\n",
      ") < 140;\n"
     ]
    }
   ],
   "source": [
    "query = \"Give me the names of the employees whose take home pay is more than 6000 but has only logged in less than 140 hours of work\"\n",
    "print(llm.invoke(sql_generator_prompt.format(schema=sql_schema, query=query)))"
   ]
  },
  {
   "cell_type": "code",
   "execution_count": 17,
   "metadata": {},
   "outputs": [
    {
     "name": "stdout",
     "output_type": "stream",
     "text": [
      " SELECT first_name, last_name\n",
      "FROM employee\n",
      "JOIN salary_details sd1 ON employee.id = sd1.employee_id\n",
      "WHERE NOT EXISTS (\n",
      "    SELECT * FROM salary_details sd2\n",
      "    WHERE sd2.employee_id = employee.id AND sd2.take_home_pay * 1.10 >= sd1.take_home_pay\n",
      "    AND sd1.hire_date <= sd2.salary_period\n",
      ")\n",
      "ORDER BY hire_date;\n"
     ]
    }
   ],
   "source": [
    "query = \"Give me the names of the employees whose take home pay has increased by 10% throughout the duration of their employment\"\n",
    "print(llm.invoke(sql_generator_prompt.format(schema=sql_schema, query=query)))"
   ]
  },
  {
   "cell_type": "code",
   "execution_count": 24,
   "metadata": {},
   "outputs": [
    {
     "name": "stdout",
     "output_type": "stream",
     "text": [
      " SELECT e.id, e.first_name, e.last_name\n",
      "FROM employee AS e\n",
      "JOIN time_sheet AS ts ON e.id = ts.employee_id\n",
      "WHERE (ts.month >= DATE_TRUNC('year', CURRENT_DATE) AND ts.total_hours > 500)\n",
      "OR EXISTS (\n",
      "    SELECT 1\n",
      "    FROM time_sheet AS t2\n",
      "    WHERE e.id = t2.employee_id\n",
      "    AND t2.month < DATE_TRUNC('year', CURRENT_DATE)\n",
      "    AND SUM(t2.total_hours) > 500\n",
      ");\n"
     ]
    }
   ],
   "source": [
    "query = \"Who all have worked more than 500 hours in a year\"\n",
    "print(llm.invoke(sql_generator_prompt.format(schema=sql_schema, query=query)))"
   ]
  },
  {
   "cell_type": "code",
   "execution_count": null,
   "metadata": {},
   "outputs": [],
   "source": []
  }
 ],
 "metadata": {
  "kernelspec": {
   "display_name": "llm-sql-QFtvVKaY",
   "language": "python",
   "name": "python3"
  },
  "language_info": {
   "codemirror_mode": {
    "name": "ipython",
    "version": 3
   },
   "file_extension": ".py",
   "mimetype": "text/x-python",
   "name": "python",
   "nbconvert_exporter": "python",
   "pygments_lexer": "ipython3",
   "version": "3.11.9"
  }
 },
 "nbformat": 4,
 "nbformat_minor": 2
}
